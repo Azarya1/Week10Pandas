{
 "cells": [
  {
   "cell_type": "code",
   "execution_count": 1,
   "id": "99dd64fc",
   "metadata": {},
   "outputs": [
    {
     "name": "stdout",
     "output_type": "stream",
     "text": [
      "1.4.4\n"
     ]
    }
   ],
   "source": [
    "import pandas as pd\n",
    "\n",
    "print(pd.__version__)"
   ]
  },
  {
   "cell_type": "code",
   "execution_count": null,
   "id": "4a17a178",
   "metadata": {},
   "outputs": [],
   "source": [
    "df = pd.read_csv('./data/titanicfull.csv')\n",
    "df.head()"
   ]
  },
  {
   "cell_type": "code",
   "execution_count": null,
   "id": "ac92f71b",
   "metadata": {},
   "outputs": [],
   "source": [
    "df[(df['sex'] =='female') & (df['age']>=60) & (df['embarked']=='S') & (df['survived']==1)]"
   ]
  },
  {
   "cell_type": "code",
   "execution_count": null,
   "id": "731c4d18",
   "metadata": {},
   "outputs": [],
   "source": [
    "df[\n",
    "    (df['sex']=='female') &\n",
    "    (df['age']>=60) &\n",
    "    (df['embarked']=='S') &\n",
    "    (df['survived']==1)\n",
    "]\n"
   ]
  },
  {
   "cell_type": "code",
   "execution_count": null,
   "id": "45480579",
   "metadata": {},
   "outputs": [],
   "source": [
    "k1r = df['sex' ]=='female'\n",
    "kr2 = df['age']>=60\n",
    "kr3 = df['embarked']=='S'\n",
    "kr4 = df['survived']==1\n",
    "\n",
    "df[kr1 & kr2 & kr3 & kr4]\n"
   ]
  },
  {
   "cell_type": "code",
   "execution_count": null,
   "id": "413bea74",
   "metadata": {},
   "outputs": [],
   "source": []
  }
 ],
 "metadata": {
  "kernelspec": {
   "display_name": "Python 3 (ipykernel)",
   "language": "python",
   "name": "python3"
  },
  "language_info": {
   "codemirror_mode": {
    "name": "ipython",
    "version": 3
   },
   "file_extension": ".py",
   "mimetype": "text/x-python",
   "name": "python",
   "nbconvert_exporter": "python",
   "pygments_lexer": "ipython3",
   "version": "3.9.13"
  }
 },
 "nbformat": 4,
 "nbformat_minor": 5
}
